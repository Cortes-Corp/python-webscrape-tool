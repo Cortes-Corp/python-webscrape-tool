{
 "cells": [
  {
   "cell_type": "code",
   "execution_count": 7,
   "metadata": {},
   "outputs": [
    {
     "name": "stdout",
     "output_type": "stream",
     "text": [
      "Page Title: 439 Bergen Blvd, Oradell, NJ 07649 | MLS #24008363 | Zillow\n"
     ]
    }
   ],
   "source": [
    "from bs4 import BeautifulSoup\n",
    "import requests\n",
    "\n",
    "from time import sleep\n",
    "\n",
    "# Start a session to keep cookies and headers consistent across requests\n",
    "session = requests.Session()\n",
    "\n",
    "# Set a custom User-Agent and Referer header\n",
    "headers = {\n",
    "    'User-Agent': 'Mozilla/5.0 (Macintosh; Intel Mac OS X 10_15_7) AppleWebKit/537.36 (KHTML, like Gecko) Chrome/88.0.4324.150 Safari/537.36',\n",
    "    'Referer': 'https://www.google.com/'\n",
    "}\n",
    "\n",
    "url = 'https://www.zillow.com/homedetails/439-Bergen-Blvd-Oradell-NJ-07649/37986497_zpid/'\n",
    "\n",
    "response = session.get(url, headers=headers)\n",
    "\n",
    "if response.status_code == 200:\n",
    "     # Process your successful response here\n",
    "    html = response.text\n",
    "    soup = BeautifulSoup(html, 'html.parser')\n",
    "    title = soup.find('title').get_text()\n",
    "    print(f'Page Title: {title}')  # Or proceed with BeautifulSoup to parse the HTML\n",
    "else:\n",
    "        print(f'Failed to retrieve the page: status code {response.status_code}')\n"
   ]
  }
 ],
 "metadata": {
  "kernelspec": {
   "display_name": "venv",
   "language": "python",
   "name": "python3"
  },
  "language_info": {
   "codemirror_mode": {
    "name": "ipython",
    "version": 3
   },
   "file_extension": ".py",
   "mimetype": "text/x-python",
   "name": "python",
   "nbconvert_exporter": "python",
   "pygments_lexer": "ipython3",
   "version": "3.12.1"
  }
 },
 "nbformat": 4,
 "nbformat_minor": 2
}
