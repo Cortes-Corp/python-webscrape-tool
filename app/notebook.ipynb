{
 "cells": [
  {
   "cell_type": "code",
   "execution_count": 63,
   "metadata": {},
   "outputs": [
    {
     "name": "stdout",
     "output_type": "stream",
     "text": [
      "{'address': '13-18 154 Street,\\xa0Whitestone, NY 11357', 'img': 'https://photos.zillowstatic.com/fp/aa98f0ef466aaf44189ed4295152fd74-cc_ft_960.jpg', 'price': '$1,120,000', 'beds': '4', 'baths': '2', 'sqft': '1,152'}\n"
     ]
    }
   ],
   "source": [
    "from bs4 import BeautifulSoup\n",
    "import requests\n",
    "\n",
    "from time import sleep\n",
    "\n",
    "# Start a session to keep cookies and headers consistent across requests\n",
    "session = requests.Session()\n",
    "\n",
    "# Set a custom User-Agent and Referer header\n",
    "headers = {\n",
    "    'User-Agent': 'Mozilla/5.0 (Macintosh; Intel Mac OS X 10_15_7) AppleWebKit/537.36 (KHTML, like Gecko) Chrome/88.0.4324.150 Safari/537.36',\n",
    "    'Referer': 'https://www.google.com/'\n",
    "}\n",
    "\n",
    "url = 'https://www.zillow.com/homedetails/1318-154th-St-Flushing-NY-11357/32027968_zpid/'\n",
    "\n",
    "response = session.get(url, headers=headers)\n",
    "\n",
    "if response.status_code == 200:\n",
    "    data = {}\n",
    "    # parsing\n",
    "    html = response.text\n",
    "    soup = BeautifulSoup(html, 'html.parser')\n",
    "    \n",
    "\n",
    "    # getting address\n",
    "    address = soup.find('h1')\n",
    "    data['address'] = address.get_text()\n",
    "\n",
    "    # getting images\n",
    "    image = soup.find(lambda tag: tag.name == 'img' and tag.get('src').startswith('https://photos'))\n",
    "    data['img'] = image.get('src')\n",
    "\n",
    "    # getting price\n",
    "    price = soup.find(lambda tag: tag.name == 'span' and tag.get_text().strip().startswith('$'))\n",
    "    data['price'] = price.get_text()\n",
    "\n",
    "    # getting bed, bath, and sqare footage\n",
    "    bbs_divs = soup.findAll('div', attrs={'data-testid': 'bed-bath-sqft-fact-container'})\n",
    "    for parent_div in bbs_divs:\n",
    "          children = parent_div.findAll('span')\n",
    "          values = []\n",
    "          for child in children:\n",
    "                values.append(child.get_text())\n",
    "          data[values[1]] = values[0]\n",
    "    print(data)\n",
    "else:\n",
    "        print(f'Failed to retrieve the page: status code {response.status_code}')\n"
   ]
  },
  {
   "cell_type": "code",
   "execution_count": null,
   "metadata": {},
   "outputs": [],
   "source": []
  }
 ],
 "metadata": {
  "kernelspec": {
   "display_name": "venv",
   "language": "python",
   "name": "python3"
  },
  "language_info": {
   "codemirror_mode": {
    "name": "ipython",
    "version": 3
   },
   "file_extension": ".py",
   "mimetype": "text/x-python",
   "name": "python",
   "nbconvert_exporter": "python",
   "pygments_lexer": "ipython3",
   "version": "3.12.1"
  }
 },
 "nbformat": 4,
 "nbformat_minor": 2
}
